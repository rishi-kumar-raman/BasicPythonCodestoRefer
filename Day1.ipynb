{
 "cells": [
  {
   "cell_type": "markdown",
   "metadata": {},
   "source": [
    "## Consecutive subsequence"
   ]
  },
  {
   "cell_type": "code",
   "execution_count": 5,
   "metadata": {},
   "outputs": [],
   "source": [
    "def findLongestConseqSubseq(arr, n):\n",
    "    # code here\n",
    "    \n",
    "    length = 1\n",
    "    \n",
    "    arr = sorted(arr)\n",
    "\n",
    "    temp_len = 1\n",
    "    \n",
    "    for i in range(n-1):\n",
    "        if arr[i+1] == arr[i] + 1:\n",
    "            temp_len = temp_len + 1\n",
    "            if temp_len > length:\n",
    "                length = length + 1\n",
    "                \n",
    "        elif arr[i+1] == arr[i]:\n",
    "            continue\n",
    "                \n",
    "        else:\n",
    "            temp_len = 1\n",
    "            \n",
    "    return length"
   ]
  },
  {
   "cell_type": "code",
   "execution_count": 12,
   "metadata": {},
   "outputs": [],
   "source": [
    "n=10\n",
    "\n",
    "arr=[3, 10, 3, 11, 4, 5, 6, 7, 8, 12]"
   ]
  },
  {
   "cell_type": "code",
   "execution_count": 13,
   "metadata": {},
   "outputs": [
    {
     "data": {
      "text/plain": [
       "6"
      ]
     },
     "execution_count": 13,
     "metadata": {},
     "output_type": "execute_result"
    }
   ],
   "source": [
    "findLongestConseqSubseq(arr,n)"
   ]
  },
  {
   "cell_type": "code",
   "execution_count": 9,
   "metadata": {},
   "outputs": [
    {
     "data": {
      "text/plain": [
       "4"
      ]
     },
     "execution_count": 9,
     "metadata": {},
     "output_type": "execute_result"
    }
   ],
   "source": [
    "def findLongestConseqSubseq(arr, n):\n",
    "    # code here\n",
    "    \n",
    "    length = 1\n",
    "    \n",
    "    arr = sorted(arr)\n",
    "\n",
    "    temp_len = 1\n",
    "    \n",
    "    for i in range(n-1):\n",
    "        if arr[i+1] == arr[i] + 1:\n",
    "            a=arr[i+1]\n",
    "            b=arr[i] + 1\n",
    "            temp_len = temp_len + 1\n",
    "            if temp_len > length:\n",
    "                c=temp_len\n",
    "                length = length + 1\n",
    "                d=length\n",
    "                \n",
    "        elif arr[i+1] == arr[i]:\n",
    "            continue\n",
    "                \n",
    "        else:\n",
    "            temp_len = 1\n",
    "            \n",
    "    return length\n",
    "\n",
    "\n",
    "n=7\n",
    "arr=[1, 9, 3, 10, 4, 20, 2]\n",
    "findLongestConseqSubseq(arr,n)"
   ]
  },
  {
   "cell_type": "markdown",
   "metadata": {},
   "source": [
    "## Length of Longest Subsequence"
   ]
  },
  {
   "cell_type": "code",
   "execution_count": 181,
   "metadata": {},
   "outputs": [
    {
     "name": "stdout",
     "output_type": "stream",
     "text": [
      "Length of lis is 6\n"
     ]
    }
   ],
   "source": [
    "def lis(arr): \n",
    "    n = len(arr) \n",
    "  \n",
    "    lis = [1]*n \n",
    "  \n",
    "    for i in range (1 , n): \n",
    "        for j in range(0 , i): \n",
    "            if arr[i] > arr[j] and lis[i]< lis[j] + 1 : \n",
    "                lis[i] = lis[j]+1\n",
    "   \n",
    "    maximum = 0\n",
    "  \n",
    "    for i in range(n): \n",
    "        maximum = max(maximum , lis[i]) \n",
    "  \n",
    "    return maximum \n",
    " \n",
    " \n",
    "arr = [10, 22, 9, 33, 21, 50, 41, 60, 80]\n",
    "print (\"Length of lis is\", lis(arr) )\n"
   ]
  },
  {
   "cell_type": "code",
   "execution_count": 182,
   "metadata": {},
   "outputs": [
    {
     "name": "stdout",
     "output_type": "stream",
     "text": [
      "[1, 2, 1, 3, 2, 4, 4, 5, 6]\n",
      "6\n"
     ]
    }
   ],
   "source": [
    "n=[10, 22, 9, 33, 21, 50, 41, 60, 80]\n",
    "len1=len(n)\n",
    "n1=[1]*len1\n",
    "for i in range (1,len1):\n",
    "    for j in range(0,i):\n",
    "        if (n[i]>n[j]) and (n1[i]<n1[j]+1):\n",
    "            n1[i]=n1[j]+1\n",
    "print(n1)\n",
    "print(max(n1))\n",
    "            "
   ]
  },
  {
   "cell_type": "markdown",
   "metadata": {},
   "source": [
    "## Decreasing Subsequence"
   ]
  },
  {
   "cell_type": "code",
   "execution_count": 34,
   "metadata": {},
   "outputs": [
    {
     "name": "stdout",
     "output_type": "stream",
     "text": [
      "[1, 1, 2, 1, 1, 2, 3, 1, 1]\n",
      "3\n"
     ]
    }
   ],
   "source": [
    "n=[15, 27, 14, 38, 63, 55, 46, 65, 85]\n",
    "len1=len(n)\n",
    "n1=[1]*len1\n",
    "for i in range(1,len1):\n",
    "    for j in range(0,i):\n",
    "        if(n[i]<n[j]) :\n",
    "            n1[i]=n1[j]+1\n",
    "print(n1)\n",
    "print(max(n1))\n",
    "    "
   ]
  },
  {
   "cell_type": "markdown",
   "metadata": {},
   "source": [
    "## Prime or Not"
   ]
  },
  {
   "cell_type": "code",
   "execution_count": 136,
   "metadata": {},
   "outputs": [],
   "source": [
    "from math import sqrt as sq"
   ]
  },
  {
   "cell_type": "code",
   "execution_count": 133,
   "metadata": {},
   "outputs": [],
   "source": [
    "def prime(m,n):\n",
    "    l=[]\n",
    "    for i in range(m,n+1):\n",
    "        for j in range(2,i):\n",
    "            if(i%j==0):\n",
    "                break\n",
    "        else:\n",
    "            l.append(i)\n",
    "    return l"
   ]
  },
  {
   "cell_type": "code",
   "execution_count": 135,
   "metadata": {},
   "outputs": [
    {
     "name": "stdout",
     "output_type": "stream",
     "text": [
      "622\n"
     ]
    }
   ],
   "source": [
    "print(sum(prime(9,72)))"
   ]
  },
  {
   "cell_type": "code",
   "execution_count": 178,
   "metadata": {},
   "outputs": [
    {
     "name": "stdout",
     "output_type": "stream",
     "text": [
      "[1, 2, 311]\n"
     ]
    }
   ],
   "source": [
    "l1=[]\n",
    "n=sum(prime(9,72))\n",
    "for i in range(1,n):\n",
    "    if(n%i==0):\n",
    "        l1.append(i)\n",
    "print(l1)"
   ]
  },
  {
   "cell_type": "code",
   "execution_count": 177,
   "metadata": {},
   "outputs": [
    {
     "data": {
      "text/plain": [
       "622"
      ]
     },
     "execution_count": 177,
     "metadata": {},
     "output_type": "execute_result"
    }
   ],
   "source": [
    "sum(prime(9,72))"
   ]
  },
  {
   "cell_type": "code",
   "execution_count": 184,
   "metadata": {},
   "outputs": [],
   "source": [
    "from collections import Counter"
   ]
  },
  {
   "cell_type": "code",
   "execution_count": 186,
   "metadata": {},
   "outputs": [],
   "source": [
    "l=[2, 1 ,4, 3, 1, 2, 3, 2, 3, 6, 2, 3 ,5, 2, 5, 3]"
   ]
  },
  {
   "cell_type": "code",
   "execution_count": 187,
   "metadata": {},
   "outputs": [
    {
     "data": {
      "text/plain": [
       "Counter({2: 5, 1: 2, 4: 1, 3: 5, 6: 1, 5: 2})"
      ]
     },
     "execution_count": 187,
     "metadata": {},
     "output_type": "execute_result"
    }
   ],
   "source": [
    "Counter(l)"
   ]
  },
  {
   "cell_type": "markdown",
   "metadata": {},
   "source": [
    "# Hashing"
   ]
  },
  {
   "cell_type": "raw",
   "metadata": {},
   "source": [
    "Given two arrays: arr1[0..m-1] of size m and arr2[0..n-1] of size n. Task is to check whether arr2[] is a subset of arr1[] or not. Both the arrays can be both unsorted or sorted. It may be assumed that elements in both array are distinct."
   ]
  },
  {
   "cell_type": "code",
   "execution_count": 2,
   "metadata": {},
   "outputs": [],
   "source": [
    "from collections import Counter\n",
    "from itertools import combinations"
   ]
  },
  {
   "cell_type": "raw",
   "metadata": {},
   "source": [
    "1\n",
    "6 4\n",
    "11 1 13 21 3 7\n",
    "11 3 7 1\n",
    "Yes"
   ]
  },
  {
   "cell_type": "code",
   "execution_count": 4,
   "metadata": {},
   "outputs": [
    {
     "name": "stdout",
     "output_type": "stream",
     "text": [
      "1\n",
      "11 1 13 21 3 7\n",
      "11 3 7 1\n",
      "0\n",
      "0\n",
      "0\n",
      "0\n",
      "0\n",
      "0\n",
      "0\n",
      "0\n",
      "0\n",
      "0\n",
      "0\n",
      "0\n",
      "0\n",
      "0\n",
      "0\n",
      "0\n",
      "0\n",
      "0\n",
      "0\n",
      "0\n",
      "0\n"
     ]
    }
   ],
   "source": [
    "\n",
    "n=int(input())\n",
    "    \n",
    "x=input().split()\n",
    "y=input().split()\n",
    "l1=[x[x1:y1] for x1,y1 in combinations(range(len(x)+1),r=2)]\n",
    "for i in l1:\n",
    "    if(Counter(i)==Counter(y)):\n",
    "        print(1)\n",
    "        break\n",
    "    else:\n",
    "        print(0)\n",
    "        "
   ]
  },
  {
   "cell_type": "raw",
   "metadata": {},
   "source": [
    "Given an array A[] of N positive integers which can contain integers from 1 to N where elements can be repeated or can be absent from the array. Your task is to count frequency of all elements from 1 to N.\n",
    "\n",
    "Note: Expected time complexity is O(n) with O(1) extra space.\n",
    "\n",
    "Input:\n",
    "First line of input contains an integer T denoting the number of test cases. For each test case, first line contains an integer N denoting the size of array. The second line contains N space-separated integers A1, A2, ..., AN denoting the elements of the array.\n",
    "\n",
    "Output:\n",
    "For each test case, output N space-separated integers denoting the frequency of each element from 1 to N.\n",
    "\n",
    "Constraints:\n",
    "1 ≤ T ≤ 100\n",
    "1 ≤ N ≤ 106\n",
    "1 <= A[i] <= 106\n",
    "\n",
    "Example:\n",
    "Input:\n",
    "2\n",
    "5\n",
    "2 3 2 3 5\n",
    "4\n",
    "3 3 3 3\n",
    "\n",
    "Output:\n",
    "0 2 2 0 1\n",
    "0 0 4 0"
   ]
  },
  {
   "cell_type": "code",
   "execution_count": 32,
   "metadata": {},
   "outputs": [
    {
     "name": "stdout",
     "output_type": "stream",
     "text": [
      "2\n",
      "5\n",
      "2 3 2 3 5\n",
      "0 2 2 0 1 4\n",
      "3 3 3 3\n",
      "0 0 4 0 "
     ]
    }
   ],
   "source": [
    "n=int(input())\n",
    "for i in range(n):\n",
    "    n=int(input())\n",
    "    m=input().split()\n",
    "    m=[int(i) for i in m]\n",
    "    if(len(m)==n):\n",
    "        for j in range(1,n+1):\n",
    "            print(m.count(j),end=' ')\n",
    "    else:\n",
    "        print('Enter the proper length')"
   ]
  },
  {
   "cell_type": "markdown",
   "metadata": {},
   "source": [
    "### Check if two arrays are equal or not"
   ]
  },
  {
   "cell_type": "code",
   "execution_count": 33,
   "metadata": {},
   "outputs": [],
   "source": [
    "l=[1,2,5,4,0]\n",
    "l1=[2,4,5,0,1]"
   ]
  },
  {
   "cell_type": "code",
   "execution_count": 10,
   "metadata": {},
   "outputs": [],
   "source": [
    "from collections import Counter"
   ]
  },
  {
   "cell_type": "code",
   "execution_count": 35,
   "metadata": {},
   "outputs": [
    {
     "data": {
      "text/plain": [
       "True"
      ]
     },
     "execution_count": 35,
     "metadata": {},
     "output_type": "execute_result"
    }
   ],
   "source": [
    "Counter(l)==Counter(l1)"
   ]
  },
  {
   "cell_type": "markdown",
   "metadata": {},
   "source": [
    "### First element to occur k times"
   ]
  },
  {
   "cell_type": "raw",
   "metadata": {},
   "source": [
    "1\n",
    "7 2\n",
    "1 7 4 3 4 8 7"
   ]
  },
  {
   "cell_type": "code",
   "execution_count": 39,
   "metadata": {},
   "outputs": [
    {
     "name": "stdout",
     "output_type": "stream",
     "text": [
      "1 7 4 3 4 8 7\n",
      "7\n"
     ]
    }
   ],
   "source": [
    "inp1=[int(x) for x in input().split()]\n",
    "for i in inp1:\n",
    "    if(inp1.count(i)==2):\n",
    "        print(i)\n",
    "        break\n"
   ]
  },
  {
   "cell_type": "markdown",
   "metadata": {},
   "source": [
    "### In First But Second"
   ]
  },
  {
   "cell_type": "raw",
   "metadata": {},
   "source": [
    "1 2 3 4 5 10\n",
    "2 3 1 0 5"
   ]
  },
  {
   "cell_type": "code",
   "execution_count": 5,
   "metadata": {},
   "outputs": [],
   "source": [
    "l=[1 ,2 ,3 ,4 ,5 ,10]\n",
    "l1=[2 ,3 ,1 ,0 ,5]"
   ]
  },
  {
   "cell_type": "code",
   "execution_count": 6,
   "metadata": {},
   "outputs": [
    {
     "name": "stdout",
     "output_type": "stream",
     "text": [
      "[4, 10]\n"
     ]
    }
   ],
   "source": [
    "l2=[]\n",
    "for i in l:\n",
    "    if i not in l1:\n",
    "        l2.append(i)\n",
    "print(l2)"
   ]
  },
  {
   "cell_type": "markdown",
   "metadata": {},
   "source": [
    "### Non-Repeating Element"
   ]
  },
  {
   "cell_type": "code",
   "execution_count": 8,
   "metadata": {},
   "outputs": [
    {
     "name": "stdout",
     "output_type": "stream",
     "text": [
      "6\n"
     ]
    }
   ],
   "source": [
    "l1=[9,4,9,6,7,4]\n",
    "for i in l1:\n",
    "    if(l1.count(i)==1):\n",
    "        print(i)\n",
    "        break"
   ]
  },
  {
   "cell_type": "markdown",
   "metadata": {},
   "source": [
    "### Group Anagrams Together"
   ]
  },
  {
   "cell_type": "code",
   "execution_count": 39,
   "metadata": {},
   "outputs": [
    {
     "data": {
      "text/plain": [
       "'3'"
      ]
     },
     "execution_count": 39,
     "metadata": {},
     "output_type": "execute_result"
    }
   ],
   "source": [
    "# l=['act','cat','tac','god','dog']\n",
    "l=['act' ,'cat','tac']\n",
    "g=''.join(l)\n",
    "l1=[]\n",
    "for i in g:\n",
    "    l1.append(g.count(i))\n",
    "l1=set(l1)\n",
    "' '.join([str(i) for i in l1])"
   ]
  },
  {
   "cell_type": "markdown",
   "metadata": {},
   "source": [
    "### Count pairs with given sum"
   ]
  },
  {
   "cell_type": "raw",
   "metadata": {},
   "source": [
    "4 6\n",
    "1  5  7 1"
   ]
  },
  {
   "cell_type": "code",
   "execution_count": 50,
   "metadata": {},
   "outputs": [
    {
     "data": {
      "text/plain": [
       "2"
      ]
     },
     "execution_count": 50,
     "metadata": {},
     "output_type": "execute_result"
    }
   ],
   "source": [
    "n=6\n",
    "l1=[1,5,7,1]\n",
    "l2=[]\n",
    "for i in range (len(l1)):\n",
    "    for j in range (len(l1)):\n",
    "        if(l1[i]+l1[j]==n):\n",
    "            l2.append(l1[i])\n",
    "len(list(set(l2)))"
   ]
  },
  {
   "cell_type": "code",
   "execution_count": 89,
   "metadata": {},
   "outputs": [],
   "source": [
    "a=str(round(8/3,1))"
   ]
  },
  {
   "cell_type": "code",
   "execution_count": 93,
   "metadata": {},
   "outputs": [],
   "source": [
    "a=a.split('.')"
   ]
  },
  {
   "cell_type": "code",
   "execution_count": 95,
   "metadata": {},
   "outputs": [
    {
     "name": "stdout",
     "output_type": "stream",
     "text": [
      "2 ( 7 )\n"
     ]
    }
   ],
   "source": [
    "print(a[0],'(',a[1],')')"
   ]
  },
  {
   "cell_type": "code",
   "execution_count": 110,
   "metadata": {},
   "outputs": [],
   "source": [
    "a=0\n",
    "b=1\n",
    "c=0\n",
    "l=[]\n",
    "l.append(0)\n",
    "l.append(1)\n",
    "for i in range(1,20):\n",
    "    c=a+b\n",
    "    a=b\n",
    "    b=c\n",
    "    l.append(b)"
   ]
  },
  {
   "cell_type": "code",
   "execution_count": 111,
   "metadata": {},
   "outputs": [
    {
     "data": {
      "text/plain": [
       "[0,\n",
       " 1,\n",
       " 1,\n",
       " 2,\n",
       " 3,\n",
       " 5,\n",
       " 8,\n",
       " 13,\n",
       " 21,\n",
       " 34,\n",
       " 55,\n",
       " 89,\n",
       " 144,\n",
       " 233,\n",
       " 377,\n",
       " 610,\n",
       " 987,\n",
       " 1597,\n",
       " 2584,\n",
       " 4181,\n",
       " 6765]"
      ]
     },
     "execution_count": 111,
     "metadata": {},
     "output_type": "execute_result"
    }
   ],
   "source": [
    "l"
   ]
  },
  {
   "cell_type": "code",
   "execution_count": 114,
   "metadata": {},
   "outputs": [],
   "source": [
    "l2=[0,2,8,5,2,1,4,13,23]"
   ]
  },
  {
   "cell_type": "code",
   "execution_count": 115,
   "metadata": {},
   "outputs": [
    {
     "name": "stdout",
     "output_type": "stream",
     "text": [
      "0 2 8 5 2 1 13 "
     ]
    }
   ],
   "source": [
    "for i in l2:\n",
    "    if i in l:\n",
    "        print(i,end=' ')"
   ]
  },
  {
   "cell_type": "markdown",
   "metadata": {},
   "source": [
    "## Practise"
   ]
  },
  {
   "cell_type": "code",
   "execution_count": 22,
   "metadata": {},
   "outputs": [],
   "source": [
    "def findLongConsesube(arr):\n",
    "    arr=sorted(arr)\n",
    "    length=1\n",
    "    temp=1\n",
    "    for i in range(0,len(arr)-1):\n",
    "        if(arr[i]+1==arr[i+1]):\n",
    "            temp=temp+1\n",
    "            if(temp>length):\n",
    "                length=length+1\n",
    "        elif(arr[i]==arr[i+1]):\n",
    "            continue\n",
    "        else:\n",
    "            temp=1\n",
    "    return length\n",
    "        "
   ]
  },
  {
   "cell_type": "code",
   "execution_count": 23,
   "metadata": {},
   "outputs": [
    {
     "data": {
      "text/plain": [
       "6"
      ]
     },
     "execution_count": 23,
     "metadata": {},
     "output_type": "execute_result"
    }
   ],
   "source": [
    "arr=[3, 10, 3, 11, 4, 5, 6, 7, 8, 12]\n",
    "findLongConsesube(arr)"
   ]
  },
  {
   "cell_type": "code",
   "execution_count": 44,
   "metadata": {},
   "outputs": [],
   "source": [
    "def longestIncresSubsequence(arr):\n",
    "    length1=len(arr)\n",
    "    n1=[1]*length1\n",
    "    for i in range(1,length1):\n",
    "        for j in range(0,i):\n",
    "            if(arr[i]>arr[j]) and (n1[i]<n1[j]+1):\n",
    "                n1[i]=n1[j]+1\n",
    "    print(n1)\n",
    "    print(max(n1))\n",
    "    "
   ]
  },
  {
   "cell_type": "code",
   "execution_count": 45,
   "metadata": {},
   "outputs": [
    {
     "name": "stdout",
     "output_type": "stream",
     "text": [
      "[1, 2, 1, 3, 2, 4, 4, 5, 6]\n",
      "6\n"
     ]
    }
   ],
   "source": [
    "longestIncresSubsequence([10, 22, 9, 33, 21, 50, 41, 60, 80])"
   ]
  },
  {
   "cell_type": "code",
   "execution_count": 46,
   "metadata": {},
   "outputs": [],
   "source": [
    "def decReasingSubsequence(arr):\n",
    "    length1=len(arr)\n",
    "    n1=[1]*length1\n",
    "    for i in range(1,length1):\n",
    "        for j in range(0,i):\n",
    "            if(arr[i]<arr[j]) and(n1[i]<n1[j]+1):\n",
    "                n1[i]=n1[j]+1\n",
    "    return max(n1)"
   ]
  },
  {
   "cell_type": "code",
   "execution_count": 48,
   "metadata": {},
   "outputs": [
    {
     "data": {
      "text/plain": [
       "3"
      ]
     },
     "execution_count": 48,
     "metadata": {},
     "output_type": "execute_result"
    }
   ],
   "source": [
    "decReasingSubsequence([ 15, 27, 14, 38,63, 55, 46, 65, 85 ])"
   ]
  },
  {
   "cell_type": "code",
   "execution_count": 56,
   "metadata": {},
   "outputs": [],
   "source": [
    "def primeornot(m,n):\n",
    "    l=[]\n",
    "    for i in range(m,n):\n",
    "        for j in range(2,i):\n",
    "            if(i%j==0):\n",
    "                break\n",
    "        else:\n",
    "            l.append(i)\n",
    "    return l"
   ]
  },
  {
   "cell_type": "code",
   "execution_count": 61,
   "metadata": {},
   "outputs": [],
   "source": [
    "from math import sqrt as sq\n",
    "def primefact(n):\n",
    "    l=[]\n",
    "    while(n%2==0):\n",
    "        l.append(2)\n",
    "        n=n/2\n",
    "    for j in range(3,int(sq(n)+1),2):\n",
    "        while(n%j==0):\n",
    "            l.append(j)\n",
    "            n=n/j\n",
    "    if(n>2):\n",
    "        l.append(n)\n",
    "    return l\n",
    "        "
   ]
  },
  {
   "cell_type": "code",
   "execution_count": 63,
   "metadata": {},
   "outputs": [
    {
     "data": {
      "text/plain": [
       "[3167]"
      ]
     },
     "execution_count": 63,
     "metadata": {},
     "output_type": "execute_result"
    }
   ],
   "source": [
    "primefact(sum(primeornot(100,200)))"
   ]
  },
  {
   "cell_type": "code",
   "execution_count": null,
   "metadata": {},
   "outputs": [],
   "source": []
  }
 ],
 "metadata": {
  "kernelspec": {
   "display_name": "Python 3",
   "language": "python",
   "name": "python3"
  },
  "language_info": {
   "codemirror_mode": {
    "name": "ipython",
    "version": 3
   },
   "file_extension": ".py",
   "mimetype": "text/x-python",
   "name": "python",
   "nbconvert_exporter": "python",
   "pygments_lexer": "ipython3",
   "version": "3.7.4"
  }
 },
 "nbformat": 4,
 "nbformat_minor": 2
}
