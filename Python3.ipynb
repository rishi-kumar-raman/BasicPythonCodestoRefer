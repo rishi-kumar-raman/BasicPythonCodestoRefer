{
 "cells": [
  {
   "cell_type": "markdown",
   "metadata": {},
   "source": [
    "### Print all distinct characters of a string in order (3 Methods)"
   ]
  },
  {
   "cell_type": "raw",
   "metadata": {},
   "source": [
    "Input  : Geeks for Geeks\n",
    "Output : for\n",
    "\n",
    "Input  : Hello Geeks\n",
    "Output : HoGks"
   ]
  },
  {
   "cell_type": "code",
   "execution_count": 47,
   "metadata": {},
   "outputs": [],
   "source": [
    "from collections import Counter\n",
    "def charc_uniq(inp1):\n",
    "    l=(Counter(inp1).items())\n",
    "    l1=[]\n",
    "    for x,y in l:\n",
    "        if(y==1 and x!=' '):\n",
    "            l1.append(x)\n",
    "    print(''.join(l1))"
   ]
  },
  {
   "cell_type": "code",
   "execution_count": 48,
   "metadata": {},
   "outputs": [
    {
     "name": "stdout",
     "output_type": "stream",
     "text": [
      "HoGks\n"
     ]
    }
   ],
   "source": [
    "charc_uniq('Hello Geeks')"
   ]
  },
  {
   "cell_type": "markdown",
   "metadata": {},
   "source": [
    "### Print common characters of two Strings in alphabetical order"
   ]
  },
  {
   "cell_type": "raw",
   "metadata": {},
   "source": [
    "Input : \n",
    "string1 : geeks\n",
    "string2 : forgeeks\n",
    "Output : eegks\n",
    "Explanation: The letters that are common between \n",
    "the two strings are e(2 times), k(1 time) and \n",
    "s(1 time).\n",
    "Hence the lexicographical output is \"eegks\"\n",
    "\n",
    "Input : \n",
    "string1 : hhhhhello\n",
    "string2 : gfghhmh\n",
    "Output : hhh"
   ]
  },
  {
   "cell_type": "code",
   "execution_count": 81,
   "metadata": {},
   "outputs": [],
   "source": [
    "from collections import Counter\n",
    "def common_characters(string1,string2):\n",
    "    s1=Counter(string1)\n",
    "    s2=Counter(string2)\n",
    "    l1=[]\n",
    "    for x,y in Counter(s1&s2).items():\n",
    "        for j in range(y):\n",
    "            l1.append(x)\n",
    "    l1.sort()\n",
    "    print(''.join(l1))"
   ]
  },
  {
   "cell_type": "code",
   "execution_count": 82,
   "metadata": {},
   "outputs": [
    {
     "name": "stdout",
     "output_type": "stream",
     "text": [
      "eeefgkors\n"
     ]
    }
   ],
   "source": [
    "s1 = \"geeksforgeeks\"\n",
    "s2 = \"practiceforgeeks\"\n",
    "common_characters(s1,s2)"
   ]
  },
  {
   "cell_type": "markdown",
   "metadata": {},
   "source": [
    "### Common characters in n strings"
   ]
  },
  {
   "cell_type": "raw",
   "metadata": {},
   "source": [
    "Input :  geeksforgeeks\n",
    "         gemkstones\n",
    "         acknowledges\n",
    "         aguelikes\n",
    "\n",
    "Output : e g k s\n",
    "\n",
    "Input :  apple \n",
    "         orange\n",
    "\n",
    "Output : a e"
   ]
  },
  {
   "cell_type": "code",
   "execution_count": 155,
   "metadata": {},
   "outputs": [],
   "source": [
    "def Common_characters(strings):\n",
    "    alpha=Counter([chr(i) for i in range(ord('a'),ord('z'))])\n",
    "    for i in strings:\n",
    "        alpha=alpha&Counter(i)\n",
    "    print(alpha)\n",
    "    for i in alpha.keys():\n",
    "        print(i,end=' ')"
   ]
  },
  {
   "cell_type": "code",
   "execution_count": 160,
   "metadata": {},
   "outputs": [
    {
     "name": "stdout",
     "output_type": "stream",
     "text": [
      "Counter({'e': 1, 'g': 1, 'k': 1, 's': 1})\n",
      "e g k s "
     ]
    }
   ],
   "source": [
    "strings = [ \"geeksforgeeks\", \"gemkstones\",  \"acknowledges\", \"aguelikes\" ]\n",
    "Common_characters(strings)"
   ]
  },
  {
   "cell_type": "code",
   "execution_count": 159,
   "metadata": {},
   "outputs": [
    {
     "name": "stdout",
     "output_type": "stream",
     "text": [
      "Counter({'a': 1, 'e': 1})\n",
      "a e "
     ]
    }
   ],
   "source": [
    "strings2=['apple','orange']\n",
    "Common_characters(strings2)"
   ]
  },
  {
   "cell_type": "markdown",
   "metadata": {},
   "source": [
    "### Find uncommon characters of the two strings"
   ]
  },
  {
   "cell_type": "raw",
   "metadata": {},
   "source": [
    "Input: str1 = “characters”, str2 = “alphabets”\n",
    "Output: b c l p r\n",
    "\n",
    "Input: str1 = “geeksforgeeks”, str2 = “geeksquiz”\n",
    "Output: f i o q r u z"
   ]
  },
  {
   "cell_type": "code",
   "execution_count": 188,
   "metadata": {},
   "outputs": [
    {
     "name": "stdout",
     "output_type": "stream",
     "text": [
      "b c f g "
     ]
    }
   ],
   "source": [
    "str1 = 'aacdb'\n",
    "str2 = 'gafd'\n",
    "str5=str1+str2\n",
    "str3=Counter(str1)\n",
    "str4=Counter(str2)\n",
    "str6=str3&str4\n",
    "l=[]\n",
    "for i in str5:\n",
    "    if (i not in str6.keys()):\n",
    "        l.append(i)\n",
    "l=list(set(l))\n",
    "l.sort()\n",
    "for i in l:\n",
    "    print(i,end=' ')"
   ]
  },
  {
   "cell_type": "markdown",
   "metadata": {},
   "source": [
    "### Concatenated string with uncommon characters of two strings"
   ]
  },
  {
   "cell_type": "code",
   "execution_count": 201,
   "metadata": {},
   "outputs": [
    {
     "name": "stdout",
     "output_type": "stream",
     "text": [
      "cbgf"
     ]
    }
   ],
   "source": [
    "str1 = 'aacdb'\n",
    "str2 = 'gafd'\n",
    "str5=str1+str2\n",
    "str3=Counter(str1)\n",
    "str4=Counter(str2)\n",
    "str6=str3&str4\n",
    "l=[]\n",
    "for i in str5:\n",
    "    if(i not in str6):\n",
    "        print(i,end='')"
   ]
  },
  {
   "cell_type": "markdown",
   "metadata": {},
   "source": [
    "### Program to remove vowels from a String"
   ]
  },
  {
   "cell_type": "raw",
   "metadata": {},
   "source": [
    "Input : welcome to geeksforgeeks\n",
    "Output : wlcm t gksfrgks\n",
    "\n",
    "Input : what is your name ?\n",
    "Output : wht s yr nm ?"
   ]
  },
  {
   "cell_type": "code",
   "execution_count": 241,
   "metadata": {},
   "outputs": [],
   "source": [
    "str='what is your name ?'\n",
    "vowels=['a','e','i','o','u']"
   ]
  },
  {
   "cell_type": "code",
   "execution_count": 242,
   "metadata": {},
   "outputs": [
    {
     "name": "stdout",
     "output_type": "stream",
     "text": [
      "wht s yr nm ?\n"
     ]
    }
   ],
   "source": [
    "for i in str:\n",
    "    if i in vowels:\n",
    "        str=str.replace(i,'')\n",
    "print(str)"
   ]
  },
  {
   "cell_type": "markdown",
   "metadata": {},
   "source": [
    "### Remove consecutive vowels from string"
   ]
  },
  {
   "cell_type": "code",
   "execution_count": 14,
   "metadata": {},
   "outputs": [
    {
     "name": "stdout",
     "output_type": "stream",
     "text": [
      "geks for geks"
     ]
    }
   ],
   "source": [
    "# inp1='your article is in queue'\n",
    "inp1='geeks for geeks'\n",
    "inp2=[i for i in inp1]\n",
    "vowels=['a','e','i','o','u']\n",
    "print(inp2[0],end='')\n",
    "for i in range(1,len(inp1)):\n",
    "    if (inp2[i] not in vowels or inp2[i-1] not in vowels):\n",
    "        print(inp2[i],end='')"
   ]
  },
  {
   "cell_type": "markdown",
   "metadata": {},
   "source": [
    "### Program to count vowels in a string (Iterative and Recursive)"
   ]
  },
  {
   "cell_type": "raw",
   "metadata": {},
   "source": [
    "Input : abc de\n",
    "Output : 2\n",
    "\n",
    "Input : geeksforgeeks portal\n",
    "Output : 7"
   ]
  },
  {
   "cell_type": "code",
   "execution_count": 18,
   "metadata": {},
   "outputs": [
    {
     "name": "stdout",
     "output_type": "stream",
     "text": [
      "7\n"
     ]
    }
   ],
   "source": [
    "st1r='geeksforgeeks portal'\n",
    "vowels=['a','e','i','o','u']\n",
    "count=0\n",
    "for i in st1r:\n",
    "    if(i in vowels):\n",
    "        count+=1\n",
    "print(count)"
   ]
  },
  {
   "cell_type": "markdown",
   "metadata": {},
   "source": [
    "### Count consonants in a string (Iterative and recursive methods)"
   ]
  },
  {
   "cell_type": "raw",
   "metadata": {},
   "source": [
    "Input : abc de\n",
    "Output : 3\n",
    "There are three consonants b, c and d.\n",
    "\n",
    "Input : geeksforgeeks portal\n",
    "Output : 12"
   ]
  },
  {
   "cell_type": "code",
   "execution_count": 2,
   "metadata": {},
   "outputs": [
    {
     "name": "stdout",
     "output_type": "stream",
     "text": [
      "12\n"
     ]
    }
   ],
   "source": [
    "st1r='geeksforgeeks portal'\n",
    "vowels=['a','e','i','o','u']\n",
    "count=0\n",
    "for i in st1r:\n",
    "    if(i not in vowels and i !=' '):\n",
    "        count+=1\n",
    "print(count)"
   ]
  },
  {
   "cell_type": "markdown",
   "metadata": {},
   "source": [
    "### Alternate vowel and consonant string"
   ]
  },
  {
   "cell_type": "raw",
   "metadata": {},
   "source": [
    "Input : geeks\n",
    "Output : gekes\n",
    "\n",
    "Input : onse\n",
    "Output : nose\n",
    "There are two possible outcomes\n",
    "\"nose\" and \"ones\".  Since \"nose\"\n",
    "is lexicographically smaller, we \n",
    "print it."
   ]
  },
  {
   "cell_type": "code",
   "execution_count": 17,
   "metadata": {},
   "outputs": [
    {
     "name": "stdout",
     "output_type": "stream",
     "text": [
      "gekes\n"
     ]
    }
   ],
   "source": [
    "str1='geeks'\n",
    "vowels=['a','e','i','o','u']\n",
    "for i in range(1,len(str1)):\n",
    "    if(str1[i-1] in vowels and str1[i] not in vowels):\n",
    "        print(str1[:i-1]+str1[i]+str1[i-1]+str1[i+1:])"
   ]
  },
  {
   "cell_type": "markdown",
   "metadata": {},
   "source": [
    "### k-th prime factor of a given number"
   ]
  },
  {
   "cell_type": "raw",
   "metadata": {},
   "source": [
    "Input : n = 225, k = 2        \n",
    "Output : 3\n",
    "Prime factors are 3 3 5 5. Second\n",
    "prime factor is 3.\n",
    "\n",
    "Input : n = 81, k = 5\n",
    "Output : -1\n",
    "Prime factors are 3 3 3 3"
   ]
  },
  {
   "cell_type": "code",
   "execution_count": 1,
   "metadata": {},
   "outputs": [],
   "source": [
    "from math import sqrt as sq\n",
    "def primefactk(num,k):\n",
    "    l=[]\n",
    "    while(num%2==0):\n",
    "        l.append(2)\n",
    "        num=num/2\n",
    "    for i in range(3,int(sq(num))+1,2):\n",
    "        while(num%i==0):\n",
    "            l.append(i)\n",
    "            num=num/i\n",
    "    if(num>2):\n",
    "        l.append(num)\n",
    "    k=k-1\n",
    "    if(k<len(l)):\n",
    "        print(l)\n",
    "        print(l[k])\n",
    "    else:\n",
    "        print(-1)"
   ]
  },
  {
   "cell_type": "code",
   "execution_count": 3,
   "metadata": {},
   "outputs": [
    {
     "name": "stdout",
     "output_type": "stream",
     "text": [
      "-1\n"
     ]
    }
   ],
   "source": [
    "primefactk(81,6)"
   ]
  },
  {
   "cell_type": "raw",
   "metadata": {},
   "source": [
    "Input: n = 12;\n",
    "Output: 2 [OR 3 OR 4]\n",
    "\n",
    "Input: n = 187;\n",
    "Output: 11 [OR 17]"
   ]
  },
  {
   "cell_type": "code",
   "execution_count": 56,
   "metadata": {},
   "outputs": [
    {
     "name": "stdout",
     "output_type": "stream",
     "text": [
      "104723\n"
     ]
    }
   ],
   "source": [
    "n=10967535067\n",
    "for i in range(2,int(sq(n))):\n",
    "    if(n%i==0):\n",
    "        print(i)\n",
    "        break"
   ]
  },
  {
   "cell_type": "markdown",
   "metadata": {},
   "source": [
    "### Find politeness of a number"
   ]
  },
  {
   "cell_type": "code",
   "execution_count": 102,
   "metadata": {},
   "outputs": [],
   "source": [
    "from math import sqrt as sq\n",
    "def primefact(num):\n",
    "    l=[]\n",
    "    \n",
    "    result=1\n",
    "    while(num%2==0):\n",
    "        num=num/2\n",
    "    for i in range(3,int(sq(num))+1,2):\n",
    "        divc=1\n",
    "        while(num%i==0):\n",
    "            l.append(i)\n",
    "            num=num/i\n",
    "            divc=divc+1\n",
    "        result=result*divc\n",
    "    if(num>2):\n",
    "        result = result * 2\n",
    "    return result-1"
   ]
  },
  {
   "cell_type": "code",
   "execution_count": 104,
   "metadata": {},
   "outputs": [
    {
     "data": {
      "text/plain": [
       "3"
      ]
     },
     "execution_count": 104,
     "metadata": {},
     "output_type": "execute_result"
    }
   ],
   "source": [
    "primefact(15)"
   ]
  },
  {
   "cell_type": "markdown",
   "metadata": {},
   "source": [
    "### Find sum of even factors of a number"
   ]
  },
  {
   "cell_type": "code",
   "execution_count": 24,
   "metadata": {},
   "outputs": [],
   "source": [
    "def evenprimesum(n):\n",
    "    l=[]\n",
    "    for i in range(2,n+1):\n",
    "        if(n%i==0 and i%2==0):\n",
    "            l.append(i)\n",
    "    return sum(l)\n",
    "    "
   ]
  },
  {
   "cell_type": "code",
   "execution_count": 25,
   "metadata": {},
   "outputs": [
    {
     "data": {
      "text/plain": [
       "26"
      ]
     },
     "execution_count": 25,
     "metadata": {},
     "output_type": "execute_result"
    }
   ],
   "source": [
    "evenprimesum(18)"
   ]
  },
  {
   "cell_type": "code",
   "execution_count": 34,
   "metadata": {},
   "outputs": [],
   "source": [
    "def oddprimesum(n):\n",
    "    l=[]\n",
    "    for i in range(1,n+1):\n",
    "        if(n%i==0 and i%2!=0):\n",
    "            l.append(i)\n",
    "    return sum(l)"
   ]
  },
  {
   "cell_type": "code",
   "execution_count": 35,
   "metadata": {},
   "outputs": [
    {
     "data": {
      "text/plain": [
       "13"
      ]
     },
     "execution_count": 35,
     "metadata": {},
     "output_type": "execute_result"
    }
   ],
   "source": [
    "oddprimesum(18)"
   ]
  },
  {
   "cell_type": "markdown",
   "metadata": {},
   "source": [
    "### Find largest prime factor of a number"
   ]
  },
  {
   "cell_type": "code",
   "execution_count": 3,
   "metadata": {},
   "outputs": [],
   "source": [
    "from math import sqrt as sq"
   ]
  },
  {
   "cell_type": "code",
   "execution_count": 6,
   "metadata": {},
   "outputs": [],
   "source": [
    "def primelarge(n):\n",
    "    l=[]\n",
    "    while(n%2==0):\n",
    "        l.append(2)\n",
    "        n=n/2\n",
    "    for i in range(3,int(sq(n))+1,2):\n",
    "        while(n%i==0):\n",
    "            n=n/i\n",
    "            l.append(i)\n",
    "    if(n>2):\n",
    "        l.append(n)\n",
    "    return max(l)\n"
   ]
  },
  {
   "cell_type": "code",
   "execution_count": 7,
   "metadata": {},
   "outputs": [
    {
     "data": {
      "text/plain": [
       "3.0"
      ]
     },
     "execution_count": 7,
     "metadata": {},
     "output_type": "execute_result"
    }
   ],
   "source": [
    "primelarge(12)"
   ]
  },
  {
   "cell_type": "markdown",
   "metadata": {},
   "source": [
    "### Find minimum sum of factors of number"
   ]
  },
  {
   "cell_type": "code",
   "execution_count": 8,
   "metadata": {},
   "outputs": [],
   "source": [
    "def primefac(n):\n",
    "    sum1=0\n",
    "    for i in range(2,n):\n",
    "        while(n%i==0):\n",
    "            sum1=sum1+i\n",
    "            n=n/i\n",
    "    return sum1"
   ]
  },
  {
   "cell_type": "code",
   "execution_count": 9,
   "metadata": {},
   "outputs": [
    {
     "data": {
      "text/plain": [
       "15"
      ]
     },
     "execution_count": 9,
     "metadata": {},
     "output_type": "execute_result"
    }
   ],
   "source": [
    "primefac(105)"
   ]
  },
  {
   "cell_type": "markdown",
   "metadata": {},
   "source": [
    "### Finding power of prime number p in n!"
   ]
  },
  {
   "cell_type": "raw",
   "metadata": {},
   "source": [
    "Input  : n = 4, p = 2\n",
    "Output : 3\n",
    "         Power of 2 in the prime factorization\n",
    "         of 2 in 4! = 24 is 3\n",
    "\n",
    "Input  : n = 24, p = 2\n",
    "Output : 22"
   ]
  },
  {
   "cell_type": "code",
   "execution_count": 69,
   "metadata": {},
   "outputs": [],
   "source": [
    "def pownum(num,p):\n",
    "    ans=0\n",
    "    temp=p\n",
    "    while(temp<=num):\n",
    "        ans+=num/temp\n",
    "        temp=temp*p\n",
    "    return int(ans)"
   ]
  },
  {
   "cell_type": "code",
   "execution_count": 70,
   "metadata": {},
   "outputs": [
    {
     "data": {
      "text/plain": [
       "22"
      ]
     },
     "execution_count": 70,
     "metadata": {},
     "output_type": "execute_result"
    }
   ],
   "source": [
    "pownum(24,2)"
   ]
  },
  {
   "cell_type": "markdown",
   "metadata": {},
   "source": [
    "### factors of a natural number"
   ]
  },
  {
   "cell_type": "code",
   "execution_count": 89,
   "metadata": {},
   "outputs": [],
   "source": [
    "def sql(n):\n",
    "    for i in range(1,n+1):\n",
    "        if(n%i==0):\n",
    "            print(i)"
   ]
  },
  {
   "cell_type": "code",
   "execution_count": 93,
   "metadata": {},
   "outputs": [
    {
     "name": "stdout",
     "output_type": "stream",
     "text": [
      "1\n",
      "2\n",
      "5\n",
      "10\n"
     ]
    }
   ],
   "source": [
    "sql(10)"
   ]
  },
  {
   "cell_type": "code",
   "execution_count": 100,
   "metadata": {},
   "outputs": [],
   "source": [
    "l=[]\n",
    "def sql(n):\n",
    "    for i in range(1,int(sq(n))+1):\n",
    "        if(n%i==0):\n",
    "            if(n/i==i):\n",
    "                l.append(i)\n",
    "            else:\n",
    "                l.append(i)\n",
    "                l.append(n/i)\n",
    "    return sorted(l)"
   ]
  },
  {
   "cell_type": "code",
   "execution_count": 101,
   "metadata": {},
   "outputs": [
    {
     "name": "stdout",
     "output_type": "stream",
     "text": [
      "[1, 2, 4, 5, 10, 20.0, 25.0, 50.0, 100.0]\n"
     ]
    }
   ],
   "source": [
    "print(sql(100))"
   ]
  },
  {
   "cell_type": "markdown",
   "metadata": {},
   "source": [
    "## Find numbers with n-divisors in a given range"
   ]
  },
  {
   "cell_type": "code",
   "execution_count": 113,
   "metadata": {},
   "outputs": [],
   "source": [
    "def isprime(n):\n",
    "    for i in range(2,int(sq(n))+1):\n",
    "        if(n%i==0):\n",
    "            return False\n",
    "    else:\n",
    "        return True"
   ]
  },
  {
   "cell_type": "code",
   "execution_count": 149,
   "metadata": {},
   "outputs": [],
   "source": [
    "def numprime(m,n,k):\n",
    "    l=[]\n",
    "    for i in range(m,n+1):\n",
    "        if(len(isfact(i))==k):\n",
    "            l.append(i)\n",
    "    return l\n",
    "def isfact(n):\n",
    "    l1=[]\n",
    "    for i in range(1,n+1):\n",
    "        if(n%i==0):\n",
    "            l1.append(i)\n",
    "    return l1"
   ]
  },
  {
   "cell_type": "code",
   "execution_count": 150,
   "metadata": {},
   "outputs": [
    {
     "name": "stdout",
     "output_type": "stream",
     "text": [
      "[10, 14, 15]\n"
     ]
    }
   ],
   "source": [
    "print(numprime(10,20,4))"
   ]
  },
  {
   "cell_type": "markdown",
   "metadata": {},
   "source": [
    "### Find minimum number to be divided to make a number a perfect square"
   ]
  },
  {
   "cell_type": "code",
   "execution_count": 9,
   "metadata": {},
   "outputs": [],
   "source": [
    "def perf(n):\n",
    "    for i in range(0,int(sq(n))+1):\n",
    "        if(i*i==n):\n",
    "            return True\n",
    "    else:\n",
    "        return False\n",
    "def minper(n):\n",
    "    for i in range(1,n):\n",
    "        if(perf(int(n//i)) == True):\n",
    "            print(i,n//i)\n",
    "            break"
   ]
  },
  {
   "cell_type": "code",
   "execution_count": 11,
   "metadata": {},
   "outputs": [
    {
     "name": "stdout",
     "output_type": "stream",
     "text": [
      "4 9\n"
     ]
    }
   ],
   "source": [
    "minper(38)"
   ]
  },
  {
   "cell_type": "markdown",
   "metadata": {},
   "source": [
    "### Sum of all proper divisors of a natural number"
   ]
  },
  {
   "cell_type": "code",
   "execution_count": 210,
   "metadata": {},
   "outputs": [],
   "source": [
    "def nat(n):\n",
    "    l=[]\n",
    "    for i in range(1,n):\n",
    "        if(n%i==0):\n",
    "            l.append(i)\n",
    "    return sum(l)"
   ]
  },
  {
   "cell_type": "code",
   "execution_count": 212,
   "metadata": {},
   "outputs": [
    {
     "data": {
      "text/plain": [
       "8"
      ]
     },
     "execution_count": 212,
     "metadata": {},
     "output_type": "execute_result"
    }
   ],
   "source": [
    "nat(10)"
   ]
  },
  {
   "cell_type": "code",
   "execution_count": 213,
   "metadata": {},
   "outputs": [],
   "source": [
    "def allnat(n):\n",
    "    l=[]\n",
    "    for i in range(1,n+1):\n",
    "        if(n%i==0):\n",
    "            l.append(i)\n",
    "    return sum(l)"
   ]
  },
  {
   "cell_type": "code",
   "execution_count": 215,
   "metadata": {},
   "outputs": [
    {
     "data": {
      "text/plain": [
       "24"
      ]
     },
     "execution_count": 215,
     "metadata": {},
     "output_type": "execute_result"
    }
   ],
   "source": [
    "allnat(15)"
   ]
  },
  {
   "cell_type": "markdown",
   "metadata": {},
   "source": [
    "### Sum of largest prime factor of each number less than equal to n"
   ]
  },
  {
   "cell_type": "code",
   "execution_count": 221,
   "metadata": {},
   "outputs": [],
   "source": [
    "from math import sqrt as sq\n",
    "def primefactk(num):\n",
    "    l=[]\n",
    "    while(num%2==0):\n",
    "        l.append(2)\n",
    "        num=num/2\n",
    "    for i in range(3,int(sq(num))+1,2):\n",
    "        while(num%i==0):\n",
    "            l.append(i)\n",
    "            num=num/i\n",
    "    if(num>2):\n",
    "        l.append(num)\n",
    "    return max(l)"
   ]
  },
  {
   "cell_type": "code",
   "execution_count": 229,
   "metadata": {},
   "outputs": [],
   "source": [
    "def sumlarprim(n):\n",
    "    l=[]\n",
    "    for i in range(2,n+1):\n",
    "        l.append(primefactk(i))\n",
    "    return l"
   ]
  },
  {
   "cell_type": "code",
   "execution_count": 231,
   "metadata": {},
   "outputs": [
    {
     "data": {
      "text/plain": [
       "46.0"
      ]
     },
     "execution_count": 231,
     "metadata": {},
     "output_type": "execute_result"
    }
   ],
   "source": [
    "sum(sumlarprim(12))"
   ]
  },
  {
   "cell_type": "markdown",
   "metadata": {},
   "source": [
    "### Sum of all divisors from 1 to n"
   ]
  },
  {
   "cell_type": "code",
   "execution_count": 239,
   "metadata": {},
   "outputs": [],
   "source": [
    "def div(n):\n",
    "    l=[]\n",
    "    for i in range(1,n+1):\n",
    "        if(n%i==0):\n",
    "            l.append(i)\n",
    "    return sum(l)"
   ]
  },
  {
   "cell_type": "code",
   "execution_count": 242,
   "metadata": {},
   "outputs": [],
   "source": [
    "def suminran(n):\n",
    "    mina=0\n",
    "    for i in range(1,n+1):\n",
    "        mina=mina+div(i)\n",
    "    return mina\n",
    "        "
   ]
  },
  {
   "cell_type": "code",
   "execution_count": 247,
   "metadata": {},
   "outputs": [
    {
     "data": {
      "text/plain": [
       "21"
      ]
     },
     "execution_count": 247,
     "metadata": {},
     "output_type": "execute_result"
    }
   ],
   "source": [
    "suminran(5)"
   ]
  },
  {
   "cell_type": "markdown",
   "metadata": {},
   "source": [
    "### Check for Amicable Pair"
   ]
  },
  {
   "cell_type": "code",
   "execution_count": 271,
   "metadata": {},
   "outputs": [],
   "source": [
    "def nat(n):\n",
    "    l=[]\n",
    "    for i in range(1,n):\n",
    "        if(n%i==0):\n",
    "            l.append(i)\n",
    "    return sum(l)"
   ]
  },
  {
   "cell_type": "code",
   "execution_count": 275,
   "metadata": {},
   "outputs": [
    {
     "data": {
      "text/plain": [
       "1"
      ]
     },
     "execution_count": 275,
     "metadata": {},
     "output_type": "execute_result"
    }
   ],
   "source": [
    "nat(2)"
   ]
  },
  {
   "cell_type": "code",
   "execution_count": 273,
   "metadata": {},
   "outputs": [],
   "source": [
    "def amb(m,n):\n",
    "    k=max(m,n)\n",
    "    print(k)\n",
    "    l=min(m,n)\n",
    "    if(nat(k)==l):\n",
    "        print('Yes')\n",
    "    else:\n",
    "        print('No')"
   ]
  },
  {
   "cell_type": "code",
   "execution_count": 274,
   "metadata": {},
   "outputs": [
    {
     "name": "stdout",
     "output_type": "stream",
     "text": [
      "284\n",
      "Yes\n"
     ]
    }
   ],
   "source": [
    "amb(220,284)"
   ]
  },
  {
   "cell_type": "code",
   "execution_count": 17,
   "metadata": {},
   "outputs": [],
   "source": [
    "def prime(m,n):\n",
    "    l=[]\n",
    "    for i in range(m,n):\n",
    "        for j in range(2,i):\n",
    "            if(i%j==0):\n",
    "                break\n",
    "        else:\n",
    "            l.append(i)\n",
    "    return l"
   ]
  },
  {
   "cell_type": "code",
   "execution_count": 18,
   "metadata": {},
   "outputs": [
    {
     "data": {
      "text/plain": [
       "[2, 3, 5, 7]"
      ]
     },
     "execution_count": 18,
     "metadata": {},
     "output_type": "execute_result"
    }
   ],
   "source": [
    "prime(2,10)"
   ]
  },
  {
   "cell_type": "code",
   "execution_count": null,
   "metadata": {},
   "outputs": [],
   "source": []
  }
 ],
 "metadata": {
  "kernelspec": {
   "display_name": "Python 3",
   "language": "python",
   "name": "python3"
  },
  "language_info": {
   "codemirror_mode": {
    "name": "ipython",
    "version": 3
   },
   "file_extension": ".py",
   "mimetype": "text/x-python",
   "name": "python",
   "nbconvert_exporter": "python",
   "pygments_lexer": "ipython3",
   "version": "3.7.4"
  }
 },
 "nbformat": 4,
 "nbformat_minor": 2
}
